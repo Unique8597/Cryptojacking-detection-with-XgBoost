{
 "cells": [
  {
   "cell_type": "code",
   "execution_count": 1,
   "id": "fb3a3c61-27e4-4466-b60e-21ab420a4af2",
   "metadata": {},
   "outputs": [],
   "source": [
    "import numpy as np\n",
    "import pandas as pd\n",
    "import pickle\n",
    "import itertools\n",
    "import matplotlib.pyplot as plt\n",
    "import seaborn as sns\n",
    "\n",
    "from xgboost import XGBClassifier\n",
    "from sklearn.linear_model import LogisticRegression\n",
    "from sklearn.ensemble import RandomForestClassifier\n",
    "from sklearn.model_selection import KFold, StratifiedKFold\n",
    "from sklearn.metrics import classification_report, confusion_matrix\n",
    "from sklearn.model_selection import cross_val_score, train_test_split\n",
    "from sklearn.metrics import roc_auc_score,roc_curve, auc, f1_score, precision_recall_curve, auc, log_loss\n",
    "from sklearn.metrics import make_scorer\n",
    "from sklearn.inspection import permutation_importance\n",
    "from sklearn.cluster import KMeans\n",
    "from sklearn.metrics import pairwise_distances_argmin_min\n",
    "\n",
    "from sklearn.metrics import precision_score\n",
    "from sklearn.metrics import recall_score\n",
    "from sklearn.metrics import accuracy_score\n",
    "from sklearn.metrics import f1_score\n",
    "from sklearn.metrics import fbeta_score\n",
    "from sklearn.metrics import cohen_kappa_score\n",
    "from sklearn.metrics import roc_auc_score\n",
    "from sklearn.metrics import confusion_matrix\n",
    "from sklearn.metrics import classification_report\n",
    "from sklearn.preprocessing import StandardScaler\n",
    "\n",
    "\n",
    "from numpy import mean\n",
    "from numpy import std\n",
    "from sklearn.model_selection import GridSearchCV"
   ]
  },
  {
   "cell_type": "markdown",
   "id": "1071874c-ba2e-4e15-8d63-176964c23489",
   "metadata": {},
   "source": [
    "### Load Data"
   ]
  },
  {
   "cell_type": "code",
   "execution_count": 2,
   "id": "5c43a473-33d3-4f5e-845b-2510341eab03",
   "metadata": {},
   "outputs": [
    {
     "name": "stderr",
     "output_type": "stream",
     "text": [
      "C:\\Users\\New user\\AppData\\Local\\Temp\\ipykernel_19500\\2464106790.py:2: DtypeWarning: Columns (14,19,26,27,52,57) have mixed types. Specify dtype option on import or set low_memory=False.\n",
      "  abnormal_data = pd.read_csv(\"final-anormal-data-set.csv\")\n"
     ]
    }
   ],
   "source": [
    "normal_data = pd.read_csv(\"final-normal-data-set.csv\")\n",
    "abnormal_data = pd.read_csv(\"final-anormal-data-set.csv\")"
   ]
  },
  {
   "cell_type": "markdown",
   "id": "a3732f1f-fe5f-49a0-8fec-ca32daa69899",
   "metadata": {
    "tags": []
   },
   "source": [
    "#### Assign Target Label"
   ]
  },
  {
   "cell_type": "code",
   "execution_count": 84,
   "id": "e7419847-6752-429c-91fd-6e7eb5a5ab27",
   "metadata": {},
   "outputs": [],
   "source": [
    "normal_data['target'] = 0\n",
    "abnormal_data['target'] = 1"
   ]
  },
  {
   "cell_type": "markdown",
   "id": "da19660b-2efc-4394-a9a5-0a072e339c5f",
   "metadata": {},
   "source": [
    "#### Combine Datasets"
   ]
  },
  {
   "cell_type": "code",
   "execution_count": 85,
   "id": "a66f0c83-74a4-4e73-8dba-a49f92e25309",
   "metadata": {},
   "outputs": [],
   "source": [
    "combined_df = pd.concat([normal_data, abnormal_data], ignore_index=True).sample(frac=1, random_state=42)\n",
    "combined_df = combined_df.reset_index(drop =True)"
   ]
  },
  {
   "cell_type": "code",
   "execution_count": 86,
   "id": "99bd741b-ea5b-494a-ae2a-ceea564f35f6",
   "metadata": {
    "tags": []
   },
   "outputs": [
    {
     "data": {
      "text/html": [
       "<div>\n",
       "<style scoped>\n",
       "    .dataframe tbody tr th:only-of-type {\n",
       "        vertical-align: middle;\n",
       "    }\n",
       "\n",
       "    .dataframe tbody tr th {\n",
       "        vertical-align: top;\n",
       "    }\n",
       "\n",
       "    .dataframe thead th {\n",
       "        text-align: right;\n",
       "    }\n",
       "</style>\n",
       "<table border=\"1\" class=\"dataframe\">\n",
       "  <thead>\n",
       "    <tr style=\"text-align: right;\">\n",
       "      <th></th>\n",
       "      <th>cpu_guest</th>\n",
       "      <th>cpu_guest_nice</th>\n",
       "      <th>cpu_idle</th>\n",
       "      <th>cpu_iowait</th>\n",
       "      <th>cpu_irq</th>\n",
       "      <th>cpu_nice</th>\n",
       "      <th>cpu_softirq</th>\n",
       "      <th>cpu_steal</th>\n",
       "      <th>cpu_system</th>\n",
       "      <th>cpu_total</th>\n",
       "      <th>...</th>\n",
       "      <th>processcount_thread</th>\n",
       "      <th>processcount_total</th>\n",
       "      <th>system_hostname</th>\n",
       "      <th>system_hr_name</th>\n",
       "      <th>system_linux_distro</th>\n",
       "      <th>system_os_name</th>\n",
       "      <th>system_os_version</th>\n",
       "      <th>system_platform</th>\n",
       "      <th>timestamp</th>\n",
       "      <th>target</th>\n",
       "    </tr>\n",
       "  </thead>\n",
       "  <tbody>\n",
       "    <tr>\n",
       "      <th>0</th>\n",
       "      <td>0.0</td>\n",
       "      <td>0.0</td>\n",
       "      <td>90.0</td>\n",
       "      <td>0.0</td>\n",
       "      <td>0.0</td>\n",
       "      <td>0.0</td>\n",
       "      <td>0.0</td>\n",
       "      <td>0.0</td>\n",
       "      <td>3.6</td>\n",
       "      <td>9.2</td>\n",
       "      <td>...</td>\n",
       "      <td>138.0</td>\n",
       "      <td>96.0</td>\n",
       "      <td>vm4-web-server</td>\n",
       "      <td>CentOS Linux 7.7.1908 64bit</td>\n",
       "      <td>CentOS Linux 7.7.1908</td>\n",
       "      <td>Linux</td>\n",
       "      <td>3.10.0-1062.12.1.el7.x86_64</td>\n",
       "      <td>64bit</td>\n",
       "      <td>2020-01-29 19:02:27</td>\n",
       "      <td>0</td>\n",
       "    </tr>\n",
       "    <tr>\n",
       "      <th>1</th>\n",
       "      <td>0.0</td>\n",
       "      <td>0.0</td>\n",
       "      <td>0.0</td>\n",
       "      <td>0.0</td>\n",
       "      <td>0.0</td>\n",
       "      <td>0.0</td>\n",
       "      <td>0.0</td>\n",
       "      <td>0.0</td>\n",
       "      <td>3.4</td>\n",
       "      <td>100.0</td>\n",
       "      <td>...</td>\n",
       "      <td>199.0</td>\n",
       "      <td>111.0</td>\n",
       "      <td>vm1-graph-analytics</td>\n",
       "      <td>CentOS Linux 7.7.1908 64bit</td>\n",
       "      <td>CentOS Linux 7.7.1908</td>\n",
       "      <td>Linux</td>\n",
       "      <td>3.10.0-1062.12.1.el7.x86_64</td>\n",
       "      <td>64bit</td>\n",
       "      <td>2020-01-28 21:41:54</td>\n",
       "      <td>0</td>\n",
       "    </tr>\n",
       "    <tr>\n",
       "      <th>2</th>\n",
       "      <td>0.0</td>\n",
       "      <td>0.0</td>\n",
       "      <td>93.5</td>\n",
       "      <td>0.0</td>\n",
       "      <td>0.0</td>\n",
       "      <td>0.0</td>\n",
       "      <td>0.0</td>\n",
       "      <td>0.0</td>\n",
       "      <td>2.8</td>\n",
       "      <td>6.5</td>\n",
       "      <td>...</td>\n",
       "      <td>144.0</td>\n",
       "      <td>90.0</td>\n",
       "      <td>vm2-node</td>\n",
       "      <td>CentOS Linux 7.7.1908 64bit</td>\n",
       "      <td>CentOS Linux 7.7.1908</td>\n",
       "      <td>Linux</td>\n",
       "      <td>3.10.0-1062.12.1.el7.x86_64</td>\n",
       "      <td>64bit</td>\n",
       "      <td>2020-01-26 15:08:51</td>\n",
       "      <td>0</td>\n",
       "    </tr>\n",
       "    <tr>\n",
       "      <th>3</th>\n",
       "      <td>0.0</td>\n",
       "      <td>0.0</td>\n",
       "      <td>91.7</td>\n",
       "      <td>0.0</td>\n",
       "      <td>0.0</td>\n",
       "      <td>0.0</td>\n",
       "      <td>0.0</td>\n",
       "      <td>0.0</td>\n",
       "      <td>2.8</td>\n",
       "      <td>7.4</td>\n",
       "      <td>...</td>\n",
       "      <td>138.0</td>\n",
       "      <td>96.0</td>\n",
       "      <td>vm4-web-server</td>\n",
       "      <td>CentOS Linux 7.7.1908 64bit</td>\n",
       "      <td>CentOS Linux 7.7.1908</td>\n",
       "      <td>Linux</td>\n",
       "      <td>3.10.0-1062.12.1.el7.x86_64</td>\n",
       "      <td>64bit</td>\n",
       "      <td>2020-01-29 15:48:13</td>\n",
       "      <td>0</td>\n",
       "    </tr>\n",
       "    <tr>\n",
       "      <th>4</th>\n",
       "      <td>0.0</td>\n",
       "      <td>0.0</td>\n",
       "      <td>0.0</td>\n",
       "      <td>0.0</td>\n",
       "      <td>0.0</td>\n",
       "      <td>0.0</td>\n",
       "      <td>0.0</td>\n",
       "      <td>0.0</td>\n",
       "      <td>2.5</td>\n",
       "      <td>100.0</td>\n",
       "      <td>...</td>\n",
       "      <td>132.0</td>\n",
       "      <td>100.0</td>\n",
       "      <td>vm3-tomcat</td>\n",
       "      <td>CentOS Linux 7.7.1908 64bit</td>\n",
       "      <td>CentOS Linux 7.7.1908</td>\n",
       "      <td>Linux</td>\n",
       "      <td>3.10.0-1062.12.1.el7.x86_64</td>\n",
       "      <td>64bit</td>\n",
       "      <td>2020-01-28 19:43:25</td>\n",
       "      <td>0</td>\n",
       "    </tr>\n",
       "    <tr>\n",
       "      <th>5</th>\n",
       "      <td>0.0</td>\n",
       "      <td>0.0</td>\n",
       "      <td>0.0</td>\n",
       "      <td>0.0</td>\n",
       "      <td>0.0</td>\n",
       "      <td>0.0</td>\n",
       "      <td>0.0</td>\n",
       "      <td>0.0</td>\n",
       "      <td>3.3</td>\n",
       "      <td>100.0</td>\n",
       "      <td>...</td>\n",
       "      <td>135.0</td>\n",
       "      <td>103.0</td>\n",
       "      <td>vm3-tomcat</td>\n",
       "      <td>CentOS Linux 7.7.1908 64bit</td>\n",
       "      <td>CentOS Linux 7.7.1908</td>\n",
       "      <td>Linux</td>\n",
       "      <td>3.10.0-1062.12.1.el7.x86_64</td>\n",
       "      <td>64bit</td>\n",
       "      <td>2020-01-28 19:50:26</td>\n",
       "      <td>0</td>\n",
       "    </tr>\n",
       "    <tr>\n",
       "      <th>6</th>\n",
       "      <td>0.0</td>\n",
       "      <td>0.0</td>\n",
       "      <td>92.6</td>\n",
       "      <td>0.0</td>\n",
       "      <td>0.0</td>\n",
       "      <td>0.0</td>\n",
       "      <td>0.0</td>\n",
       "      <td>0.0</td>\n",
       "      <td>1.9</td>\n",
       "      <td>7.4</td>\n",
       "      <td>...</td>\n",
       "      <td>138.0</td>\n",
       "      <td>96.0</td>\n",
       "      <td>vm4-web-server</td>\n",
       "      <td>CentOS Linux 7.7.1908 64bit</td>\n",
       "      <td>CentOS Linux 7.7.1908</td>\n",
       "      <td>Linux</td>\n",
       "      <td>3.10.0-1062.12.1.el7.x86_64</td>\n",
       "      <td>64bit</td>\n",
       "      <td>2020-01-29 20:32:09</td>\n",
       "      <td>0</td>\n",
       "    </tr>\n",
       "    <tr>\n",
       "      <th>7</th>\n",
       "      <td>0.0</td>\n",
       "      <td>0.0</td>\n",
       "      <td>91.7</td>\n",
       "      <td>0.0</td>\n",
       "      <td>0.0</td>\n",
       "      <td>0.0</td>\n",
       "      <td>0.0</td>\n",
       "      <td>0.0</td>\n",
       "      <td>2.8</td>\n",
       "      <td>8.3</td>\n",
       "      <td>...</td>\n",
       "      <td>138.0</td>\n",
       "      <td>96.0</td>\n",
       "      <td>vm4-web-server</td>\n",
       "      <td>CentOS Linux 7.7.1908 64bit</td>\n",
       "      <td>CentOS Linux 7.7.1908</td>\n",
       "      <td>Linux</td>\n",
       "      <td>3.10.0-1062.12.1.el7.x86_64</td>\n",
       "      <td>64bit</td>\n",
       "      <td>2020-01-29 20:41:14</td>\n",
       "      <td>0</td>\n",
       "    </tr>\n",
       "    <tr>\n",
       "      <th>8</th>\n",
       "      <td>0.0</td>\n",
       "      <td>0.0</td>\n",
       "      <td>90.8</td>\n",
       "      <td>0.0</td>\n",
       "      <td>0.0</td>\n",
       "      <td>0.0</td>\n",
       "      <td>0.0</td>\n",
       "      <td>0.0</td>\n",
       "      <td>3.7</td>\n",
       "      <td>9.2</td>\n",
       "      <td>...</td>\n",
       "      <td>138.0</td>\n",
       "      <td>96.0</td>\n",
       "      <td>vm4-web-server</td>\n",
       "      <td>CentOS Linux 7.7.1908 64bit</td>\n",
       "      <td>CentOS Linux 7.7.1908</td>\n",
       "      <td>Linux</td>\n",
       "      <td>3.10.0-1062.12.1.el7.x86_64</td>\n",
       "      <td>64bit</td>\n",
       "      <td>2020-01-29 20:35:33</td>\n",
       "      <td>0</td>\n",
       "    </tr>\n",
       "    <tr>\n",
       "      <th>9</th>\n",
       "      <td>0.0</td>\n",
       "      <td>0.0</td>\n",
       "      <td>90.0</td>\n",
       "      <td>0.0</td>\n",
       "      <td>0.0</td>\n",
       "      <td>0.0</td>\n",
       "      <td>0.0</td>\n",
       "      <td>0.0</td>\n",
       "      <td>4.5</td>\n",
       "      <td>10.0</td>\n",
       "      <td>...</td>\n",
       "      <td>138.0</td>\n",
       "      <td>96.0</td>\n",
       "      <td>vm4-web-server</td>\n",
       "      <td>CentOS Linux 7.7.1908 64bit</td>\n",
       "      <td>CentOS Linux 7.7.1908</td>\n",
       "      <td>Linux</td>\n",
       "      <td>3.10.0-1062.12.1.el7.x86_64</td>\n",
       "      <td>64bit</td>\n",
       "      <td>2020-01-29 17:54:51</td>\n",
       "      <td>0</td>\n",
       "    </tr>\n",
       "  </tbody>\n",
       "</table>\n",
       "<p>10 rows × 83 columns</p>\n",
       "</div>"
      ],
      "text/plain": [
       "   cpu_guest  cpu_guest_nice  cpu_idle  cpu_iowait  cpu_irq  cpu_nice  \\\n",
       "0        0.0             0.0      90.0         0.0      0.0       0.0   \n",
       "1        0.0             0.0       0.0         0.0      0.0       0.0   \n",
       "2        0.0             0.0      93.5         0.0      0.0       0.0   \n",
       "3        0.0             0.0      91.7         0.0      0.0       0.0   \n",
       "4        0.0             0.0       0.0         0.0      0.0       0.0   \n",
       "5        0.0             0.0       0.0         0.0      0.0       0.0   \n",
       "6        0.0             0.0      92.6         0.0      0.0       0.0   \n",
       "7        0.0             0.0      91.7         0.0      0.0       0.0   \n",
       "8        0.0             0.0      90.8         0.0      0.0       0.0   \n",
       "9        0.0             0.0      90.0         0.0      0.0       0.0   \n",
       "\n",
       "   cpu_softirq  cpu_steal  cpu_system  cpu_total  ...  processcount_thread  \\\n",
       "0          0.0        0.0         3.6        9.2  ...                138.0   \n",
       "1          0.0        0.0         3.4      100.0  ...                199.0   \n",
       "2          0.0        0.0         2.8        6.5  ...                144.0   \n",
       "3          0.0        0.0         2.8        7.4  ...                138.0   \n",
       "4          0.0        0.0         2.5      100.0  ...                132.0   \n",
       "5          0.0        0.0         3.3      100.0  ...                135.0   \n",
       "6          0.0        0.0         1.9        7.4  ...                138.0   \n",
       "7          0.0        0.0         2.8        8.3  ...                138.0   \n",
       "8          0.0        0.0         3.7        9.2  ...                138.0   \n",
       "9          0.0        0.0         4.5       10.0  ...                138.0   \n",
       "\n",
       "  processcount_total      system_hostname               system_hr_name  \\\n",
       "0               96.0       vm4-web-server  CentOS Linux 7.7.1908 64bit   \n",
       "1              111.0  vm1-graph-analytics  CentOS Linux 7.7.1908 64bit   \n",
       "2               90.0             vm2-node  CentOS Linux 7.7.1908 64bit   \n",
       "3               96.0       vm4-web-server  CentOS Linux 7.7.1908 64bit   \n",
       "4              100.0           vm3-tomcat  CentOS Linux 7.7.1908 64bit   \n",
       "5              103.0           vm3-tomcat  CentOS Linux 7.7.1908 64bit   \n",
       "6               96.0       vm4-web-server  CentOS Linux 7.7.1908 64bit   \n",
       "7               96.0       vm4-web-server  CentOS Linux 7.7.1908 64bit   \n",
       "8               96.0       vm4-web-server  CentOS Linux 7.7.1908 64bit   \n",
       "9               96.0       vm4-web-server  CentOS Linux 7.7.1908 64bit   \n",
       "\n",
       "     system_linux_distro  system_os_name            system_os_version  \\\n",
       "0  CentOS Linux 7.7.1908           Linux  3.10.0-1062.12.1.el7.x86_64   \n",
       "1  CentOS Linux 7.7.1908           Linux  3.10.0-1062.12.1.el7.x86_64   \n",
       "2  CentOS Linux 7.7.1908           Linux  3.10.0-1062.12.1.el7.x86_64   \n",
       "3  CentOS Linux 7.7.1908           Linux  3.10.0-1062.12.1.el7.x86_64   \n",
       "4  CentOS Linux 7.7.1908           Linux  3.10.0-1062.12.1.el7.x86_64   \n",
       "5  CentOS Linux 7.7.1908           Linux  3.10.0-1062.12.1.el7.x86_64   \n",
       "6  CentOS Linux 7.7.1908           Linux  3.10.0-1062.12.1.el7.x86_64   \n",
       "7  CentOS Linux 7.7.1908           Linux  3.10.0-1062.12.1.el7.x86_64   \n",
       "8  CentOS Linux 7.7.1908           Linux  3.10.0-1062.12.1.el7.x86_64   \n",
       "9  CentOS Linux 7.7.1908           Linux  3.10.0-1062.12.1.el7.x86_64   \n",
       "\n",
       "  system_platform            timestamp target  \n",
       "0           64bit  2020-01-29 19:02:27      0  \n",
       "1           64bit  2020-01-28 21:41:54      0  \n",
       "2           64bit  2020-01-26 15:08:51      0  \n",
       "3           64bit  2020-01-29 15:48:13      0  \n",
       "4           64bit  2020-01-28 19:43:25      0  \n",
       "5           64bit  2020-01-28 19:50:26      0  \n",
       "6           64bit  2020-01-29 20:32:09      0  \n",
       "7           64bit  2020-01-29 20:41:14      0  \n",
       "8           64bit  2020-01-29 20:35:33      0  \n",
       "9           64bit  2020-01-29 17:54:51      0  \n",
       "\n",
       "[10 rows x 83 columns]"
      ]
     },
     "execution_count": 86,
     "metadata": {},
     "output_type": "execute_result"
    }
   ],
   "source": [
    "combined_df.head(10)"
   ]
  },
  {
   "cell_type": "code",
   "execution_count": 87,
   "id": "cea46186-147a-4feb-84bf-356cf36cb99e",
   "metadata": {
    "tags": []
   },
   "outputs": [
    {
     "data": {
      "text/plain": [
       "Index(['cpu_guest', 'cpu_guest_nice', 'cpu_idle', 'cpu_iowait', 'cpu_irq',\n",
       "       'cpu_nice', 'cpu_softirq', 'cpu_steal', 'cpu_system', 'cpu_total',\n",
       "       'cpu_user', 'diskio_sda1_disk_name', 'diskio_sda1_key',\n",
       "       'diskio_sda1_read_bytes', 'diskio_sda1_time_since_update',\n",
       "       'diskio_sda1_write_bytes', 'diskio_sda_disk_name', 'diskio_sda_key',\n",
       "       'diskio_sda_read_bytes', 'diskio_sda_time_since_update',\n",
       "       'diskio_sda_write_bytes', 'fs_/_device_name', 'fs_/_free',\n",
       "       'fs_/_fs_type', 'fs_/_key', 'fs_/_mnt_point', 'fs_/_percent',\n",
       "       'fs_/_size', 'fs_/_used', 'load_cpucore', 'load_min1', 'load_min15',\n",
       "       'load_min5', 'mem_active', 'mem_available', 'mem_buffers', 'mem_cached',\n",
       "       'mem_free', 'mem_inactive', 'mem_percent', 'mem_shared', 'mem_total',\n",
       "       'mem_used', 'memswap_free', 'memswap_percent', 'memswap_sin',\n",
       "       'memswap_sout', 'memswap_total', 'memswap_used',\n",
       "       'network_lo_cumulative_cx', 'network_lo_cumulative_rx',\n",
       "       'network_lo_cumulative_tx', 'network_lo_cx',\n",
       "       'network_lo_interface_name', 'network_lo_key', 'network_lo_rx',\n",
       "       'network_lo_time_since_update', 'network_lo_tx', 'percpu_0_cpu_number',\n",
       "       'percpu_0_guest', 'percpu_0_guest_nice', 'percpu_0_idle',\n",
       "       'percpu_0_iowait', 'percpu_0_irq', 'percpu_0_key', 'percpu_0_nice',\n",
       "       'percpu_0_softirq', 'percpu_0_steal', 'percpu_0_system',\n",
       "       'percpu_0_total', 'percpu_0_user', 'processcount_running',\n",
       "       'processcount_sleeping', 'processcount_thread', 'processcount_total',\n",
       "       'system_hostname', 'system_hr_name', 'system_linux_distro',\n",
       "       'system_os_name', 'system_os_version', 'system_platform', 'timestamp',\n",
       "       'target'],\n",
       "      dtype='object')"
      ]
     },
     "execution_count": 87,
     "metadata": {},
     "output_type": "execute_result"
    }
   ],
   "source": [
    "combined_df.columns"
   ]
  },
  {
   "cell_type": "code",
   "execution_count": 88,
   "id": "2a6003b2-eccb-49e0-81cb-4ef707039a3d",
   "metadata": {
    "tags": []
   },
   "outputs": [
    {
     "name": "stdout",
     "output_type": "stream",
     "text": [
      "<class 'pandas.core.frame.DataFrame'>\n",
      "RangeIndex: 95312 entries, 0 to 95311\n",
      "Data columns (total 83 columns):\n",
      " #   Column                         Non-Null Count  Dtype  \n",
      "---  ------                         --------------  -----  \n",
      " 0   cpu_guest                      95311 non-null  float64\n",
      " 1   cpu_guest_nice                 95311 non-null  float64\n",
      " 2   cpu_idle                       95311 non-null  float64\n",
      " 3   cpu_iowait                     95311 non-null  float64\n",
      " 4   cpu_irq                        95310 non-null  float64\n",
      " 5   cpu_nice                       95310 non-null  float64\n",
      " 6   cpu_softirq                    95311 non-null  float64\n",
      " 7   cpu_steal                      95310 non-null  float64\n",
      " 8   cpu_system                     95311 non-null  float64\n",
      " 9   cpu_total                      95310 non-null  float64\n",
      " 10  cpu_user                       95311 non-null  float64\n",
      " 11  diskio_sda1_disk_name          95312 non-null  object \n",
      " 12  diskio_sda1_key                95312 non-null  object \n",
      " 13  diskio_sda1_read_bytes         95312 non-null  float64\n",
      " 14  diskio_sda1_time_since_update  95312 non-null  object \n",
      " 15  diskio_sda1_write_bytes        95312 non-null  int64  \n",
      " 16  diskio_sda_disk_name           95312 non-null  object \n",
      " 17  diskio_sda_key                 95312 non-null  object \n",
      " 18  diskio_sda_read_bytes          95312 non-null  float64\n",
      " 19  diskio_sda_time_since_update   95312 non-null  object \n",
      " 20  diskio_sda_write_bytes         95312 non-null  int64  \n",
      " 21  fs_/_device_name               95312 non-null  object \n",
      " 22  fs_/_free                      95312 non-null  int64  \n",
      " 23  fs_/_fs_type                   95312 non-null  object \n",
      " 24  fs_/_key                       95312 non-null  object \n",
      " 25  fs_/_mnt_point                 95312 non-null  object \n",
      " 26  fs_/_percent                   95312 non-null  object \n",
      " 27  fs_/_size                      95312 non-null  object \n",
      " 28  fs_/_used                      95312 non-null  int64  \n",
      " 29  load_cpucore                   95312 non-null  int64  \n",
      " 30  load_min1                      95312 non-null  float64\n",
      " 31  load_min15                     95312 non-null  float64\n",
      " 32  load_min5                      95312 non-null  float64\n",
      " 33  mem_active                     95312 non-null  int64  \n",
      " 34  mem_available                  95312 non-null  int64  \n",
      " 35  mem_buffers                    95311 non-null  float64\n",
      " 36  mem_cached                     95312 non-null  int64  \n",
      " 37  mem_free                       95312 non-null  int64  \n",
      " 38  mem_inactive                   95312 non-null  int64  \n",
      " 39  mem_percent                    95312 non-null  float64\n",
      " 40  mem_shared                     95312 non-null  float64\n",
      " 41  mem_total                      95311 non-null  float64\n",
      " 42  mem_used                       95312 non-null  int64  \n",
      " 43  memswap_free                   95312 non-null  int64  \n",
      " 44  memswap_percent                95312 non-null  float64\n",
      " 45  memswap_sin                    95312 non-null  int64  \n",
      " 46  memswap_sout                   95312 non-null  int64  \n",
      " 47  memswap_total                  95312 non-null  int64  \n",
      " 48  memswap_used                   95312 non-null  int64  \n",
      " 49  network_lo_cumulative_cx       95311 non-null  float64\n",
      " 50  network_lo_cumulative_rx       95311 non-null  float64\n",
      " 51  network_lo_cumulative_tx       95311 non-null  float64\n",
      " 52  network_lo_cx                  95311 non-null  object \n",
      " 53  network_lo_interface_name      95311 non-null  object \n",
      " 54  network_lo_key                 95311 non-null  object \n",
      " 55  network_lo_rx                  95311 non-null  float64\n",
      " 56  network_lo_time_since_update   95311 non-null  float64\n",
      " 57  network_lo_tx                  95311 non-null  object \n",
      " 58  percpu_0_cpu_number            95312 non-null  int64  \n",
      " 59  percpu_0_guest                 95312 non-null  float64\n",
      " 60  percpu_0_guest_nice            95312 non-null  float64\n",
      " 61  percpu_0_idle                  95312 non-null  float64\n",
      " 62  percpu_0_iowait                95312 non-null  float64\n",
      " 63  percpu_0_irq                   95312 non-null  float64\n",
      " 64  percpu_0_key                   95312 non-null  object \n",
      " 65  percpu_0_nice                  95312 non-null  float64\n",
      " 66  percpu_0_softirq               95312 non-null  float64\n",
      " 67  percpu_0_steal                 95312 non-null  float64\n",
      " 68  percpu_0_system                95312 non-null  float64\n",
      " 69  percpu_0_total                 95312 non-null  float64\n",
      " 70  percpu_0_user                  95312 non-null  float64\n",
      " 71  processcount_running           95311 non-null  float64\n",
      " 72  processcount_sleeping          95311 non-null  float64\n",
      " 73  processcount_thread            95311 non-null  float64\n",
      " 74  processcount_total             95311 non-null  float64\n",
      " 75  system_hostname                95312 non-null  object \n",
      " 76  system_hr_name                 95312 non-null  object \n",
      " 77  system_linux_distro            95312 non-null  object \n",
      " 78  system_os_name                 95312 non-null  object \n",
      " 79  system_os_version              95312 non-null  object \n",
      " 80  system_platform                95312 non-null  object \n",
      " 81  timestamp                      95312 non-null  object \n",
      " 82  target                         95312 non-null  int64  \n",
      "dtypes: float64(41), int64(18), object(24)\n",
      "memory usage: 60.4+ MB\n"
     ]
    }
   ],
   "source": [
    "combined_df.info()"
   ]
  },
  {
   "cell_type": "code",
   "execution_count": 89,
   "id": "bc21ebce-a7f1-478a-94c5-85c6f37ba158",
   "metadata": {
    "tags": []
   },
   "outputs": [
    {
     "name": "stdout",
     "output_type": "stream",
     "text": [
      "Number of rows: 95312 \n",
      "Number of Columns: 83\n"
     ]
    }
   ],
   "source": [
    "#Shape of dataset\n",
    "df_shape = combined_df.shape\n",
    "print('Number of rows: {} \\nNumber of Columns: {}'.format(df_shape[0], df_shape[1]))"
   ]
  },
  {
   "cell_type": "code",
   "execution_count": 90,
   "id": "4ee78f1e-d886-4636-a733-8b232924ae84",
   "metadata": {
    "tags": []
   },
   "outputs": [
    {
     "data": {
      "text/plain": [
       "0    80851\n",
       "1    14461\n",
       "Name: target, dtype: int64"
      ]
     },
     "execution_count": 90,
     "metadata": {},
     "output_type": "execute_result"
    }
   ],
   "source": [
    "clases=combined_df[\"target\"].value_counts(sort=True)\n",
    "clases"
   ]
  },
  {
   "cell_type": "markdown",
   "id": "188cf78b-e73c-4b7b-a505-7999399e2d0d",
   "metadata": {},
   "source": [
    "### Data Preprocessing"
   ]
  },
  {
   "cell_type": "markdown",
   "id": "22528dca-446b-4e7a-9e99-bc869fd9f2dd",
   "metadata": {
    "tags": []
   },
   "source": [
    "##### Removing Irrelevant columns"
   ]
  },
  {
   "cell_type": "code",
   "execution_count": 91,
   "id": "af5fdd27-b3ed-42ca-b486-9d9c67aabb6a",
   "metadata": {},
   "outputs": [],
   "source": [
    "threshold = 3\n",
    "columns_to_remove = combined_df.columns[combined_df.nunique() <= threshold]\n",
    "columns_to_exclude = [\"target\"]\n",
    "columns_to_remove = [column for column in columns_to_remove if column not in columns_to_exclude]\n",
    "combined_df.drop(columns_to_remove, inplace=True, axis=1)\n",
    "combined_df.drop([\"timestamp\",\"system_hostname\"], axis=1,inplace=True)"
   ]
  },
  {
   "cell_type": "code",
   "execution_count": 92,
   "id": "0a736093-263b-40ce-b370-47b4fc293683",
   "metadata": {},
   "outputs": [
    {
     "data": {
      "text/html": [
       "<div>\n",
       "<style scoped>\n",
       "    .dataframe tbody tr th:only-of-type {\n",
       "        vertical-align: middle;\n",
       "    }\n",
       "\n",
       "    .dataframe tbody tr th {\n",
       "        vertical-align: top;\n",
       "    }\n",
       "\n",
       "    .dataframe thead th {\n",
       "        text-align: right;\n",
       "    }\n",
       "</style>\n",
       "<table border=\"1\" class=\"dataframe\">\n",
       "  <thead>\n",
       "    <tr style=\"text-align: right;\">\n",
       "      <th></th>\n",
       "      <th>cpu_idle</th>\n",
       "      <th>cpu_iowait</th>\n",
       "      <th>cpu_nice</th>\n",
       "      <th>cpu_softirq</th>\n",
       "      <th>cpu_system</th>\n",
       "      <th>cpu_total</th>\n",
       "      <th>cpu_user</th>\n",
       "      <th>diskio_sda1_read_bytes</th>\n",
       "      <th>diskio_sda1_time_since_update</th>\n",
       "      <th>diskio_sda1_write_bytes</th>\n",
       "      <th>...</th>\n",
       "      <th>percpu_0_nice</th>\n",
       "      <th>percpu_0_softirq</th>\n",
       "      <th>percpu_0_system</th>\n",
       "      <th>percpu_0_total</th>\n",
       "      <th>percpu_0_user</th>\n",
       "      <th>processcount_running</th>\n",
       "      <th>processcount_sleeping</th>\n",
       "      <th>processcount_thread</th>\n",
       "      <th>processcount_total</th>\n",
       "      <th>target</th>\n",
       "    </tr>\n",
       "  </thead>\n",
       "  <tbody>\n",
       "    <tr>\n",
       "      <th>0</th>\n",
       "      <td>90.0</td>\n",
       "      <td>0.0</td>\n",
       "      <td>0.0</td>\n",
       "      <td>0.0</td>\n",
       "      <td>3.6</td>\n",
       "      <td>9.2</td>\n",
       "      <td>6.4</td>\n",
       "      <td>0.0</td>\n",
       "      <td>1.091864</td>\n",
       "      <td>0</td>\n",
       "      <td>...</td>\n",
       "      <td>0.0</td>\n",
       "      <td>0.0</td>\n",
       "      <td>2.8</td>\n",
       "      <td>9.2</td>\n",
       "      <td>6.4</td>\n",
       "      <td>2.0</td>\n",
       "      <td>94.0</td>\n",
       "      <td>138.0</td>\n",
       "      <td>96.0</td>\n",
       "      <td>0</td>\n",
       "    </tr>\n",
       "    <tr>\n",
       "      <th>1</th>\n",
       "      <td>0.0</td>\n",
       "      <td>0.0</td>\n",
       "      <td>0.0</td>\n",
       "      <td>0.0</td>\n",
       "      <td>3.4</td>\n",
       "      <td>100.0</td>\n",
       "      <td>96.6</td>\n",
       "      <td>0.0</td>\n",
       "      <td>1.467298</td>\n",
       "      <td>110592</td>\n",
       "      <td>...</td>\n",
       "      <td>0.0</td>\n",
       "      <td>0.0</td>\n",
       "      <td>4.8</td>\n",
       "      <td>100.0</td>\n",
       "      <td>95.2</td>\n",
       "      <td>2.0</td>\n",
       "      <td>109.0</td>\n",
       "      <td>199.0</td>\n",
       "      <td>111.0</td>\n",
       "      <td>0</td>\n",
       "    </tr>\n",
       "    <tr>\n",
       "      <th>2</th>\n",
       "      <td>93.5</td>\n",
       "      <td>0.0</td>\n",
       "      <td>0.0</td>\n",
       "      <td>0.0</td>\n",
       "      <td>2.8</td>\n",
       "      <td>6.5</td>\n",
       "      <td>3.7</td>\n",
       "      <td>0.0</td>\n",
       "      <td>1.076858</td>\n",
       "      <td>0</td>\n",
       "      <td>...</td>\n",
       "      <td>0.0</td>\n",
       "      <td>0.0</td>\n",
       "      <td>1.9</td>\n",
       "      <td>6.5</td>\n",
       "      <td>4.7</td>\n",
       "      <td>2.0</td>\n",
       "      <td>88.0</td>\n",
       "      <td>144.0</td>\n",
       "      <td>90.0</td>\n",
       "      <td>0</td>\n",
       "    </tr>\n",
       "    <tr>\n",
       "      <th>3</th>\n",
       "      <td>91.7</td>\n",
       "      <td>0.0</td>\n",
       "      <td>0.0</td>\n",
       "      <td>0.0</td>\n",
       "      <td>2.8</td>\n",
       "      <td>7.4</td>\n",
       "      <td>5.5</td>\n",
       "      <td>0.0</td>\n",
       "      <td>1.091703</td>\n",
       "      <td>0</td>\n",
       "      <td>...</td>\n",
       "      <td>0.0</td>\n",
       "      <td>0.0</td>\n",
       "      <td>2.7</td>\n",
       "      <td>9.1</td>\n",
       "      <td>6.4</td>\n",
       "      <td>2.0</td>\n",
       "      <td>94.0</td>\n",
       "      <td>138.0</td>\n",
       "      <td>96.0</td>\n",
       "      <td>0</td>\n",
       "    </tr>\n",
       "    <tr>\n",
       "      <th>4</th>\n",
       "      <td>0.0</td>\n",
       "      <td>0.0</td>\n",
       "      <td>0.0</td>\n",
       "      <td>0.0</td>\n",
       "      <td>2.5</td>\n",
       "      <td>100.0</td>\n",
       "      <td>97.5</td>\n",
       "      <td>0.0</td>\n",
       "      <td>1.189953</td>\n",
       "      <td>0</td>\n",
       "      <td>...</td>\n",
       "      <td>0.0</td>\n",
       "      <td>0.0</td>\n",
       "      <td>3.3</td>\n",
       "      <td>100.0</td>\n",
       "      <td>96.7</td>\n",
       "      <td>2.0</td>\n",
       "      <td>98.0</td>\n",
       "      <td>132.0</td>\n",
       "      <td>100.0</td>\n",
       "      <td>0</td>\n",
       "    </tr>\n",
       "  </tbody>\n",
       "</table>\n",
       "<p>5 rows × 51 columns</p>\n",
       "</div>"
      ],
      "text/plain": [
       "   cpu_idle  cpu_iowait  cpu_nice  cpu_softirq  cpu_system  cpu_total  \\\n",
       "0      90.0         0.0       0.0          0.0         3.6        9.2   \n",
       "1       0.0         0.0       0.0          0.0         3.4      100.0   \n",
       "2      93.5         0.0       0.0          0.0         2.8        6.5   \n",
       "3      91.7         0.0       0.0          0.0         2.8        7.4   \n",
       "4       0.0         0.0       0.0          0.0         2.5      100.0   \n",
       "\n",
       "   cpu_user  diskio_sda1_read_bytes diskio_sda1_time_since_update  \\\n",
       "0       6.4                     0.0                      1.091864   \n",
       "1      96.6                     0.0                      1.467298   \n",
       "2       3.7                     0.0                      1.076858   \n",
       "3       5.5                     0.0                      1.091703   \n",
       "4      97.5                     0.0                      1.189953   \n",
       "\n",
       "   diskio_sda1_write_bytes  ...  percpu_0_nice percpu_0_softirq  \\\n",
       "0                        0  ...            0.0              0.0   \n",
       "1                   110592  ...            0.0              0.0   \n",
       "2                        0  ...            0.0              0.0   \n",
       "3                        0  ...            0.0              0.0   \n",
       "4                        0  ...            0.0              0.0   \n",
       "\n",
       "   percpu_0_system  percpu_0_total percpu_0_user processcount_running  \\\n",
       "0              2.8             9.2           6.4                  2.0   \n",
       "1              4.8           100.0          95.2                  2.0   \n",
       "2              1.9             6.5           4.7                  2.0   \n",
       "3              2.7             9.1           6.4                  2.0   \n",
       "4              3.3           100.0          96.7                  2.0   \n",
       "\n",
       "   processcount_sleeping  processcount_thread  processcount_total  target  \n",
       "0                   94.0                138.0                96.0       0  \n",
       "1                  109.0                199.0               111.0       0  \n",
       "2                   88.0                144.0                90.0       0  \n",
       "3                   94.0                138.0                96.0       0  \n",
       "4                   98.0                132.0               100.0       0  \n",
       "\n",
       "[5 rows x 51 columns]"
      ]
     },
     "execution_count": 92,
     "metadata": {},
     "output_type": "execute_result"
    }
   ],
   "source": [
    "combined_df.head()"
   ]
  },
  {
   "cell_type": "code",
   "execution_count": 93,
   "id": "1b8adb05-378c-4f92-a65f-6c561a2f4ad9",
   "metadata": {},
   "outputs": [
    {
     "name": "stdout",
     "output_type": "stream",
     "text": [
      "<class 'pandas.core.frame.DataFrame'>\n",
      "RangeIndex: 95312 entries, 0 to 95311\n",
      "Data columns (total 51 columns):\n",
      " #   Column                         Non-Null Count  Dtype  \n",
      "---  ------                         --------------  -----  \n",
      " 0   cpu_idle                       95311 non-null  float64\n",
      " 1   cpu_iowait                     95311 non-null  float64\n",
      " 2   cpu_nice                       95310 non-null  float64\n",
      " 3   cpu_softirq                    95311 non-null  float64\n",
      " 4   cpu_system                     95311 non-null  float64\n",
      " 5   cpu_total                      95310 non-null  float64\n",
      " 6   cpu_user                       95311 non-null  float64\n",
      " 7   diskio_sda1_read_bytes         95312 non-null  float64\n",
      " 8   diskio_sda1_time_since_update  95312 non-null  object \n",
      " 9   diskio_sda1_write_bytes        95312 non-null  int64  \n",
      " 10  diskio_sda_read_bytes          95312 non-null  float64\n",
      " 11  diskio_sda_time_since_update   95312 non-null  object \n",
      " 12  diskio_sda_write_bytes         95312 non-null  int64  \n",
      " 13  fs_/_free                      95312 non-null  int64  \n",
      " 14  fs_/_percent                   95312 non-null  object \n",
      " 15  fs_/_size                      95312 non-null  object \n",
      " 16  fs_/_used                      95312 non-null  int64  \n",
      " 17  load_min1                      95312 non-null  float64\n",
      " 18  load_min15                     95312 non-null  float64\n",
      " 19  load_min5                      95312 non-null  float64\n",
      " 20  mem_active                     95312 non-null  int64  \n",
      " 21  mem_available                  95312 non-null  int64  \n",
      " 22  mem_buffers                    95311 non-null  float64\n",
      " 23  mem_cached                     95312 non-null  int64  \n",
      " 24  mem_free                       95312 non-null  int64  \n",
      " 25  mem_inactive                   95312 non-null  int64  \n",
      " 26  mem_percent                    95312 non-null  float64\n",
      " 27  mem_shared                     95312 non-null  float64\n",
      " 28  mem_total                      95311 non-null  float64\n",
      " 29  mem_used                       95312 non-null  int64  \n",
      " 30  memswap_free                   95312 non-null  int64  \n",
      " 31  memswap_sin                    95312 non-null  int64  \n",
      " 32  network_lo_cumulative_cx       95311 non-null  float64\n",
      " 33  network_lo_cumulative_rx       95311 non-null  float64\n",
      " 34  network_lo_cumulative_tx       95311 non-null  float64\n",
      " 35  network_lo_cx                  95311 non-null  object \n",
      " 36  network_lo_rx                  95311 non-null  float64\n",
      " 37  network_lo_time_since_update   95311 non-null  float64\n",
      " 38  network_lo_tx                  95311 non-null  object \n",
      " 39  percpu_0_idle                  95312 non-null  float64\n",
      " 40  percpu_0_iowait                95312 non-null  float64\n",
      " 41  percpu_0_nice                  95312 non-null  float64\n",
      " 42  percpu_0_softirq               95312 non-null  float64\n",
      " 43  percpu_0_system                95312 non-null  float64\n",
      " 44  percpu_0_total                 95312 non-null  float64\n",
      " 45  percpu_0_user                  95312 non-null  float64\n",
      " 46  processcount_running           95311 non-null  float64\n",
      " 47  processcount_sleeping          95311 non-null  float64\n",
      " 48  processcount_thread            95311 non-null  float64\n",
      " 49  processcount_total             95311 non-null  float64\n",
      " 50  target                         95312 non-null  int64  \n",
      "dtypes: float64(32), int64(13), object(6)\n",
      "memory usage: 37.1+ MB\n"
     ]
    }
   ],
   "source": [
    "combined_df.info()"
   ]
  },
  {
   "cell_type": "code",
   "execution_count": 94,
   "id": "41c23cc8-4acf-47e6-9cf3-0f1fbe17f6aa",
   "metadata": {
    "tags": []
   },
   "outputs": [],
   "source": [
    "#row_indices, col_indices = np.where(combined_df.applymap(lambda x: isinstance(x, str)))\n",
    "\n",
    "# Display the row and column indices\n",
    "#for row_idx, col_idx in zip(row_indices, col_indices):\n",
    "#    print(f\"String value found at row {row_idx}, column {col_idx}.\")"
   ]
  },
  {
   "cell_type": "markdown",
   "id": "7207612f-486f-499f-b346-c2c80bfbf4b3",
   "metadata": {},
   "source": [
    "##### Missing Values"
   ]
  },
  {
   "cell_type": "code",
   "execution_count": 95,
   "id": "48c1dc72-921f-48e4-ac96-de24b0c0859f",
   "metadata": {},
   "outputs": [
    {
     "data": {
      "text/plain": [
       "20"
      ]
     },
     "execution_count": 95,
     "metadata": {},
     "output_type": "execute_result"
    }
   ],
   "source": [
    "list0 = []\n",
    "for var in combined_df.columns:\n",
    "    if (combined_df[var].isnull().sum()>0):\n",
    "        list0.append(var)\n",
    "len(list0)"
   ]
  },
  {
   "cell_type": "code",
   "execution_count": 96,
   "id": "1dfb94d0-4ca2-4aea-a791-01b9c8510895",
   "metadata": {},
   "outputs": [],
   "source": [
    "for var in list0:\n",
    "    combined_df = combined_df[~combined_df[var].isnull()] # dropping these rows"
   ]
  },
  {
   "cell_type": "code",
   "execution_count": 97,
   "id": "ed35b3d9-7f68-4e8d-8c6f-c9ed1918ca7b",
   "metadata": {},
   "outputs": [
    {
     "data": {
      "text/plain": [
       "0"
      ]
     },
     "execution_count": 97,
     "metadata": {},
     "output_type": "execute_result"
    }
   ],
   "source": [
    "list0 = []\n",
    "for var in combined_df.columns:\n",
    "    if (combined_df[var].isnull().sum()>0):\n",
    "        list0.append(var)\n",
    "len(list0)"
   ]
  },
  {
   "cell_type": "code",
   "execution_count": 98,
   "id": "7f48d95d-dc83-4655-8205-ff9a44a822aa",
   "metadata": {},
   "outputs": [],
   "source": [
    "for column in combined_df.columns:\n",
    "    if combined_df[column].dtype == object and column not in columns_to_exclude:\n",
    "        combined_df[column] = combined_df[column].astype(float) # converting the remaining variables"
   ]
  },
  {
   "cell_type": "markdown",
   "id": "68cea572-ecb9-4ba2-8363-4b29292fdbc2",
   "metadata": {},
   "source": [
    "#### Feature Assessment"
   ]
  },
  {
   "cell_type": "code",
   "execution_count": 99,
   "id": "cafeb6b3-5920-4bc6-b688-c03423e528d7",
   "metadata": {},
   "outputs": [],
   "source": [
    "cpu = [column for column in combined_df.columns if column[:3] == 'cpu' or column[3:6] == 'cpu']\n",
    "mem = [column for column in combined_df.columns if column[:3] == 'mem']\n",
    "diskio = [column for column in combined_df.columns if column[:6] == 'diskio']\n",
    "network = [column for column in combined_df.columns if column[:7] == 'network']\n",
    "load = [column for column in combined_df.columns if column[:4] == 'load']\n",
    "processcount = [column for column in combined_df.columns if column[:3] == 'pro']\n",
    "fs = [column for column in combined_df.columns if column not in cpu + mem + diskio + network + load + processcount and column != 'target']"
   ]
  },
  {
   "cell_type": "code",
   "execution_count": 100,
   "id": "80525f16-21b0-4ac7-87b9-ee28bf90c299",
   "metadata": {
    "tags": []
   },
   "outputs": [],
   "source": [
    "def summary_stats(variables):\n",
    "    stats = combined_df[variables].groupby(combined_df['target']).describe()\n",
    "    for column in combined_df[variables]:\n",
    "        print(f\"Summary Statistics for '{column}':\")\n",
    "        print(stats[column])\n",
    "        print()"
   ]
  },
  {
   "cell_type": "markdown",
   "id": "da1980a8-7b41-4c43-9094-146979e41452",
   "metadata": {},
   "source": [
    "##### load variables"
   ]
  },
  {
   "cell_type": "code",
   "execution_count": 101,
   "id": "9da963c1-0c41-4881-9c6b-f04a248f39be",
   "metadata": {},
   "outputs": [
    {
     "name": "stdout",
     "output_type": "stream",
     "text": [
      "Summary Statistics for 'load_min1':\n",
      "          count      mean       std   min   25%   50%   75%   max\n",
      "target                                                           \n",
      "0       80850.0  1.118901  1.283275  0.00  0.15  0.32  1.63  5.55\n",
      "1       14460.0  3.234879  1.079211  0.96  1.92  3.71  4.02  5.23\n",
      "\n",
      "Summary Statistics for 'load_min15':\n",
      "          count      mean       std   min   25%   50%   75%   max\n",
      "target                                                           \n",
      "0       80850.0  1.083712  1.238133  0.05  0.20  0.23  1.50  3.52\n",
      "1       14460.0  2.830480  1.135027  0.18  1.63  3.27  3.78  4.20\n",
      "\n",
      "Summary Statistics for 'load_min5':\n",
      "          count      mean       std   min   25%   50%   75%   max\n",
      "target                                                           \n",
      "0       80850.0  1.110632  1.261902  0.02  0.18  0.26  1.54  3.97\n",
      "1       14460.0  3.124193  1.085940  0.42  1.82  3.73  4.03  4.51\n",
      "\n"
     ]
    }
   ],
   "source": [
    "summary_stats(load)"
   ]
  },
  {
   "cell_type": "markdown",
   "id": "3e1a6729-54a1-4573-a1b8-59e7bd079900",
   "metadata": {
    "tags": []
   },
   "source": [
    "#####  DiskIO variables"
   ]
  },
  {
   "cell_type": "code",
   "execution_count": 102,
   "id": "5ea0a887-056f-4c32-a977-e0e4d98639f6",
   "metadata": {},
   "outputs": [
    {
     "name": "stdout",
     "output_type": "stream",
     "text": [
      "Summary Statistics for 'diskio_sda1_read_bytes':\n",
      "          count      mean          std  min  25%  50%  75%       max\n",
      "target                                                              \n",
      "0       80850.0  7.548596  1608.417607  0.0  0.0  0.0  0.0  454656.0\n",
      "1       14460.0  0.000000     0.000000  0.0  0.0  0.0  0.0       0.0\n",
      "\n",
      "Summary Statistics for 'diskio_sda1_time_since_update':\n",
      "          count      mean       std     min       25%       50%       75%  \\\n",
      "target                                                                      \n",
      "0       80850.0  1.161348  0.114805  1.0000  1.087813  1.092856  1.201133   \n",
      "1       14460.0  1.169869  0.151879  0.6527  1.024256  1.230440  1.298407   \n",
      "\n",
      "             max  \n",
      "target            \n",
      "0       1.723002  \n",
      "1       2.127072  \n",
      "\n",
      "Summary Statistics for 'diskio_sda1_write_bytes':\n",
      "          count          mean            std  min  25%  50%  75%        max\n",
      "target                                                                     \n",
      "0       80850.0  22698.578009  131377.249549  0.0  0.0  0.0  0.0  3051520.0\n",
      "1       14460.0      0.000000       0.000000  0.0  0.0  0.0  0.0        0.0\n",
      "\n",
      "Summary Statistics for 'diskio_sda_read_bytes':\n",
      "          count          mean            std  min  25%  50%  75%         max\n",
      "target                                                                      \n",
      "0       80850.0      7.548596    1608.417607  0.0  0.0  0.0  0.0    454656.0\n",
      "1       14460.0  14399.451176  353765.103391  0.0  0.0  0.0  0.0  19226624.0\n",
      "\n",
      "Summary Statistics for 'diskio_sda_time_since_update':\n",
      "          count      mean       std     min       25%       50%       75%  \\\n",
      "target                                                                      \n",
      "0       80850.0  1.161348  0.114805  1.0000  1.087813  1.092856  1.201133   \n",
      "1       14460.0  1.169869  0.151879  0.6527  1.024256  1.230440  1.298407   \n",
      "\n",
      "             max  \n",
      "target            \n",
      "0       1.723002  \n",
      "1       2.127072  \n",
      "\n",
      "Summary Statistics for 'diskio_sda_write_bytes':\n",
      "          count          mean            std  min  25%  50%  75%         max\n",
      "target                                                                      \n",
      "0       80850.0  22698.578009  131377.249549  0.0  0.0  0.0  0.0   3051520.0\n",
      "1       14460.0  27415.546335  371785.808297  0.0  0.0  0.0  0.0  34734080.0\n",
      "\n"
     ]
    }
   ],
   "source": [
    "summary_stats(diskio)"
   ]
  },
  {
   "cell_type": "markdown",
   "id": "f68082e6-c116-436c-b5c2-e6f3f93338c4",
   "metadata": {
    "tags": []
   },
   "source": [
    "##### CPU variables"
   ]
  },
  {
   "cell_type": "markdown",
   "id": "c1b9f5c7-8751-4765-8e23-bcf6ecca12a0",
   "metadata": {},
   "source": [
    "#### cpu_"
   ]
  },
  {
   "cell_type": "code",
   "execution_count": 103,
   "id": "765a329c-6950-468c-a6a3-2dc95909569a",
   "metadata": {},
   "outputs": [
    {
     "name": "stdout",
     "output_type": "stream",
     "text": [
      "Summary Statistics for 'cpu_idle':\n",
      "          count       mean        std  min  25%   50%   75%   max\n",
      "target                                                           \n",
      "0       80850.0  58.968374  43.470446  0.0  0.0  90.8  91.7  94.3\n",
      "1       14460.0   0.467109   5.553655  0.0  0.0   0.0   0.0  92.0\n",
      "\n",
      "Summary Statistics for 'cpu_iowait':\n",
      "          count      mean       std  min  25%  50%  75%  max\n",
      "target                                                      \n",
      "0       80850.0  0.003926  0.061901  0.0  0.0  0.0  0.0  3.6\n",
      "1       14460.0  0.000041  0.004990  0.0  0.0  0.0  0.0  0.6\n",
      "\n",
      "Summary Statistics for 'cpu_nice':\n",
      "          count      mean       std  min  25%  50%  75%   max\n",
      "target                                                       \n",
      "0       80850.0  0.004220  0.505686  0.0  0.0  0.0  0.0  75.5\n",
      "1       14460.0  0.003389  0.058115  0.0  0.0  0.0  0.0   1.0\n",
      "\n",
      "Summary Statistics for 'cpu_softirq':\n",
      "          count      mean       std  min  25%  50%  75%  max\n",
      "target                                                      \n",
      "0       80850.0  0.004571  0.061633  0.0  0.0  0.0  0.0  0.9\n",
      "1       14460.0  0.426680  0.559757  0.0  0.0  0.0  1.0  3.0\n",
      "\n",
      "Summary Statistics for 'cpu_system':\n",
      "          count      mean       std  min  25%  50%  75%   max\n",
      "target                                                       \n",
      "0       80850.0  3.558675  1.429017  0.8  2.8  3.4  3.7  28.1\n",
      "1       14460.0  2.174177  1.489290  0.0  1.3  2.0  2.0  48.0\n",
      "\n",
      "Summary Statistics for 'cpu_total':\n",
      "          count       mean        std  min    25%    50%    75%    max\n",
      "target                                                                \n",
      "0       80850.0  41.063244  43.464821  5.7    8.3    9.2  100.0  100.0\n",
      "1       14460.0  99.533748   5.611163  3.2  100.0  100.0  100.0  100.0\n",
      "\n"
     ]
    }
   ],
   "source": [
    "summary_stats(cpu[:6])"
   ]
  },
  {
   "cell_type": "markdown",
   "id": "cb8a7b06-ad83-4132-87de-5706c6ce21cb",
   "metadata": {
    "tags": []
   },
   "source": [
    "#### percpu"
   ]
  },
  {
   "cell_type": "code",
   "execution_count": 104,
   "id": "ea2b5271-7ff0-42cb-a9d9-b2eb01f9e655",
   "metadata": {},
   "outputs": [
    {
     "name": "stdout",
     "output_type": "stream",
     "text": [
      "Summary Statistics for 'percpu_0_idle':\n",
      "          count       mean        std  min  25%   50%   75%   max\n",
      "target                                                           \n",
      "0       80850.0  58.929304  43.462637  0.0  0.0  90.8  91.7  94.3\n",
      "1       14460.0   0.385124   5.690548  0.0  0.0   0.0   0.0  96.7\n",
      "\n",
      "Summary Statistics for 'percpu_0_iowait':\n",
      "          count      mean       std  min  25%  50%  75%   max\n",
      "target                                                       \n",
      "0       80850.0  0.004143  0.073766  0.0  0.0  0.0  0.0  10.0\n",
      "1       14460.0  0.000069  0.008316  0.0  0.0  0.0  0.0   1.0\n",
      "\n",
      "Summary Statistics for 'percpu_0_nice':\n",
      "          count      mean       std  min  25%  50%  75%   max\n",
      "target                                                       \n",
      "0       80850.0  0.004208  0.505772  0.0  0.0  0.0  0.0  74.5\n",
      "1       14460.0  0.003389  0.058115  0.0  0.0  0.0  0.0   1.0\n",
      "\n",
      "Summary Statistics for 'percpu_0_softirq':\n",
      "          count      mean       std  min  25%  50%  75%  max\n",
      "target                                                      \n",
      "0       80850.0  0.004579  0.061708  0.0  0.0  0.0  0.0  0.9\n",
      "1       14460.0  0.335367  0.499613  0.0  0.0  0.0  1.0  3.0\n",
      "\n",
      "Summary Statistics for 'percpu_0_system':\n",
      "          count      mean       std  min  25%  50%  75%   max\n",
      "target                                                       \n",
      "0       80850.0  3.557105  1.404558  0.8  2.8  3.4  3.7  26.8\n",
      "1       14460.0  1.980007  1.662647  0.0  1.0  2.0  2.0  13.0\n",
      "\n",
      "Summary Statistics for 'percpu_0_total':\n",
      "          count       mean        std  min    25%    50%    75%    max\n",
      "target                                                                \n",
      "0       80850.0  41.070696  43.462637  5.7    8.3    9.2  100.0  100.0\n",
      "1       14460.0  99.614876   5.690548  3.3  100.0  100.0  100.0  100.0\n",
      "\n",
      "Summary Statistics for 'percpu_0_user':\n",
      "          count       mean       std  min   25%   50%   75%    max\n",
      "target                                                            \n",
      "0       80850.0  37.501484  43.13117  2.8   4.7   5.6  95.1   99.2\n",
      "1       14460.0  48.198880  24.24084  1.0  26.0  33.0  74.0  100.0\n",
      "\n"
     ]
    }
   ],
   "source": [
    "summary_stats(cpu[7:])"
   ]
  },
  {
   "cell_type": "markdown",
   "id": "04192d66-b89a-4801-9b96-330e4f007cab",
   "metadata": {
    "tags": []
   },
   "source": [
    "#### memory variables"
   ]
  },
  {
   "cell_type": "code",
   "execution_count": 105,
   "id": "709e10d3-16d6-483b-98c5-b90b121dc120",
   "metadata": {},
   "outputs": [
    {
     "name": "stdout",
     "output_type": "stream",
     "text": [
      "Summary Statistics for 'mem_active':\n",
      "          count          mean           std          min          25%  \\\n",
      "target                                                                  \n",
      "0       80850.0  7.765066e+08  4.444988e+08  420192256.0  546082816.0   \n",
      "1       14460.0  4.727739e+08  2.673649e+08  199094272.0  310279168.0   \n",
      "\n",
      "                50%          75%           max  \n",
      "target                                          \n",
      "0       576708608.0  626170880.0  2.037846e+09  \n",
      "1       329684992.0  744663040.0  1.001566e+09  \n",
      "\n",
      "Summary Statistics for 'mem_available':\n",
      "          count          mean           std           min           25%  \\\n",
      "target                                                                    \n",
      "0       80850.0  2.978316e+09  1.952685e+08  2.221679e+09  3.010049e+09   \n",
      "1       14460.0  7.746884e+08  3.524194e+08  3.805512e+08  4.114135e+08   \n",
      "\n",
      "                 50%           75%           max  \n",
      "target                                            \n",
      "0       3.032941e+09  3.048960e+09  3.150131e+09  \n",
      "1       8.740680e+08  1.057587e+09  3.515314e+09  \n",
      "\n",
      "Summary Statistics for 'mem_buffers':\n",
      "          count          mean            std  min        25%        50%  \\\n",
      "target                                                                    \n",
      "0       80850.0  1.635095e+06  888258.886726  0.0  2117632.0  2117632.0   \n",
      "1       14460.0  8.486243e+05  959543.516849  0.0   167936.0   167936.0   \n",
      "\n",
      "              75%        max  \n",
      "target                        \n",
      "0       2117632.0  2117632.0  \n",
      "1       2158592.0  2158592.0  \n",
      "\n",
      "Summary Statistics for 'mem_cached':\n",
      "          count          mean           std          min          25%  \\\n",
      "target                                                                  \n",
      "0       80850.0  1.236471e+09  5.565459e+08  699781120.0  855335936.0   \n",
      "1       14460.0  5.084939e+08  8.459458e+07  361664512.0  423997440.0   \n",
      "\n",
      "                50%           75%           max  \n",
      "target                                           \n",
      "0       888776704.0  1.226497e+09  2.226229e+09  \n",
      "1       509100032.0  6.196101e+08  6.231368e+08  \n",
      "\n",
      "Summary Statistics for 'mem_free':\n",
      "          count          mean           std           min           25%  \\\n",
      "target                                                                    \n",
      "0       80850.0  2.978316e+09  1.952685e+08  2.221679e+09  3.010049e+09   \n",
      "1       14460.0  7.746884e+08  3.524194e+08  3.805512e+08  4.114135e+08   \n",
      "\n",
      "                 50%           75%           max  \n",
      "target                                            \n",
      "0       3.032941e+09  3.048960e+09  3.150131e+09  \n",
      "1       8.740680e+08  1.057587e+09  3.515314e+09  \n",
      "\n",
      "Summary Statistics for 'mem_inactive':\n",
      "          count          mean           std          min          25%  \\\n",
      "target                                                                  \n",
      "0       80850.0  5.034255e+08  2.664022e+08  190914560.0  332939264.0   \n",
      "1       14460.0  2.721177e+08  7.004025e+07  170885120.0  220299264.0   \n",
      "\n",
      "                50%          75%          max  \n",
      "target                                         \n",
      "0       333004800.0  545800192.0  943554560.0  \n",
      "1       260628480.0  366764032.0  387325952.0  \n",
      "\n",
      "Summary Statistics for 'mem_percent':\n",
      "          count       mean        std   min   25%   50%   75%   max\n",
      "target                                                             \n",
      "0       80850.0  19.709307   5.264200  15.1  17.8  18.2  18.9  40.1\n",
      "1       14460.0  74.594910  10.197766  11.5  72.5  73.4  84.0  90.4\n",
      "\n",
      "Summary Statistics for 'mem_shared':\n",
      "          count          mean            std        min        25%        50%  \\\n",
      "target                                                                          \n",
      "0       80850.0  8.913724e+06   57024.169416  8859648.0  8863744.0  8892416.0   \n",
      "1       14460.0  8.440776e+06  868620.781732  6938624.0  7131136.0  8978432.0   \n",
      "\n",
      "              75%        max  \n",
      "target                        \n",
      "0       8953856.0  9072640.0  \n",
      "1       8986624.0  9035776.0  \n",
      "\n",
      "Summary Statistics for 'mem_total':\n",
      "          count          mean           std           min           25%  \\\n",
      "target                                                                    \n",
      "0       80850.0  3.709412e+09  4.053250e+03  3.709407e+09  3.709407e+09   \n",
      "1       14460.0  3.371040e+09  1.185342e+09  1.039180e+09  3.973431e+09   \n",
      "\n",
      "                 50%           75%           max  \n",
      "target                                            \n",
      "0       3.709415e+09  3.709415e+09  3.709415e+09  \n",
      "1       3.973431e+09  3.973603e+09  3.973603e+09  \n",
      "\n",
      "Summary Statistics for 'mem_used':\n",
      "          count          mean           std          min           25%  \\\n",
      "target                                                                   \n",
      "0       80850.0  7.310961e+08  1.952702e+08  559276032.0  6.604554e+08   \n",
      "1       14460.0  2.596352e+09  1.041181e+09  458117120.0  2.879549e+09   \n",
      "\n",
      "                 50%           75%           max  \n",
      "target                                            \n",
      "0       6.764749e+08  6.993582e+08  1.487737e+09  \n",
      "1       2.915992e+09  3.338252e+09  3.593052e+09  \n",
      "\n",
      "Summary Statistics for 'memswap_free':\n",
      "          count          mean           std          min          25%  \\\n",
      "target                                                                  \n",
      "0       80850.0  0.000000e+00  0.000000e+00          0.0          0.0   \n",
      "1       14460.0  6.452764e+08  1.977328e+06  638578688.0  645648384.0   \n",
      "\n",
      "                50%          75%          max  \n",
      "target                                         \n",
      "0               0.0          0.0          0.0  \n",
      "1       645918720.0  645918720.0  645918720.0  \n",
      "\n",
      "Summary Statistics for 'memswap_sin':\n",
      "          count         mean           std  min  25%  50%     75%      max\n",
      "target                                                                    \n",
      "0       80850.0     0.000000      0.000000  0.0  0.0  0.0     0.0      0.0\n",
      "1       14460.0  9278.034855  25510.251257  0.0  0.0  0.0  8192.0  98304.0\n",
      "\n"
     ]
    }
   ],
   "source": [
    "summary_stats(mem)"
   ]
  },
  {
   "cell_type": "markdown",
   "id": "cc0bf10c-9f02-4394-b18e-e1b1c94e936c",
   "metadata": {},
   "source": [
    "#### Network variables"
   ]
  },
  {
   "cell_type": "code",
   "execution_count": 106,
   "id": "9182aedd-dcf5-4c20-9933-9ad3129bff32",
   "metadata": {},
   "outputs": [
    {
     "name": "stdout",
     "output_type": "stream",
     "text": [
      "Summary Statistics for 'network_lo_cumulative_cx':\n",
      "          count          mean           std     min      25%      50%  \\\n",
      "target                                                                  \n",
      "0       80850.0  35333.484082  45046.895063  2024.0  18464.0  18464.0   \n",
      "1       14460.0  11914.828216   9565.475875   400.0    600.0  11736.0   \n",
      "\n",
      "            75%       max  \n",
      "target                     \n",
      "0       19940.0  194680.0  \n",
      "1       17968.0   32944.0  \n",
      "\n",
      "Summary Statistics for 'network_lo_cumulative_rx':\n",
      "          count          mean           std     min     25%     50%     75%  \\\n",
      "target                                                                        \n",
      "0       80850.0  17666.742041  22523.447532  1012.0  9232.0  9232.0  9970.0   \n",
      "1       14460.0   5957.414108   4782.737938   200.0   300.0  5868.0  8984.0   \n",
      "\n",
      "            max  \n",
      "target           \n",
      "0       97340.0  \n",
      "1       16472.0  \n",
      "\n",
      "Summary Statistics for 'network_lo_cumulative_tx':\n",
      "          count          mean           std     min     25%     50%     75%  \\\n",
      "target                                                                        \n",
      "0       80850.0  17666.742041  22523.447532  1012.0  9232.0  9232.0  9970.0   \n",
      "1       14460.0   5957.414108   4782.737938   200.0   300.0  5868.0  8984.0   \n",
      "\n",
      "            max  \n",
      "target           \n",
      "0       97340.0  \n",
      "1       16472.0  \n",
      "\n",
      "Summary Statistics for 'network_lo_cx':\n",
      "          count      mean        std  min  25%  50%  75%    max\n",
      "target                                                         \n",
      "0       80850.0  2.272653  25.482684  0.0  0.0  0.0  0.0  288.0\n",
      "1       14460.0  2.323651  26.040732  0.0  0.0  0.0  0.0  656.0\n",
      "\n",
      "Summary Statistics for 'network_lo_rx':\n",
      "          count      mean        std  min  25%  50%  75%    max\n",
      "target                                                         \n",
      "0       80850.0  1.136327  12.741342  0.0  0.0  0.0  0.0  144.0\n",
      "1       14460.0  1.161826  13.020366  0.0  0.0  0.0  0.0  328.0\n",
      "\n",
      "Summary Statistics for 'network_lo_time_since_update':\n",
      "          count      mean       std      min       25%       50%       75%  \\\n",
      "target                                                                       \n",
      "0       80850.0  1.161348  0.114804  1.00000  1.087819  1.092862  1.201188   \n",
      "1       14460.0  1.169867  0.150993  0.69546  1.021373  1.230406  1.298467   \n",
      "\n",
      "             max  \n",
      "target            \n",
      "0       1.721625  \n",
      "1       2.114878  \n",
      "\n",
      "Summary Statistics for 'network_lo_tx':\n",
      "          count      mean        std  min  25%  50%  75%    max\n",
      "target                                                         \n",
      "0       80850.0  1.136327  12.741342  0.0  0.0  0.0  0.0  144.0\n",
      "1       14460.0  1.161826  13.020366  0.0  0.0  0.0  0.0  328.0\n",
      "\n"
     ]
    }
   ],
   "source": [
    "summary_stats(network)"
   ]
  },
  {
   "cell_type": "markdown",
   "id": "69668d87-c05d-43f0-928b-414fd94f33e4",
   "metadata": {},
   "source": [
    "#### ProcessCount Variables"
   ]
  },
  {
   "cell_type": "code",
   "execution_count": 107,
   "id": "9a3fefbe-088e-4d56-b36a-508037bfeb8e",
   "metadata": {},
   "outputs": [
    {
     "name": "stdout",
     "output_type": "stream",
     "text": [
      "Summary Statistics for 'processcount_running':\n",
      "          count      mean       std  min  25%  50%  75%   max\n",
      "target                                                       \n",
      "0       80850.0  2.053395  0.400752  1.0  2.0  2.0  2.0  95.0\n",
      "1       14460.0  2.119710  0.636173  1.0  2.0  2.0  2.0   6.0\n",
      "\n",
      "Summary Statistics for 'processcount_sleeping':\n",
      "          count        mean       std   min    25%    50%    75%    max\n",
      "target                                                                 \n",
      "0       80850.0   97.951429  6.781323  73.0   94.0   96.0  103.0  122.0\n",
      "1       14460.0  109.036584  4.379766  99.0  105.0  109.0  114.0  118.0\n",
      "\n",
      "Summary Statistics for 'processcount_thread':\n",
      "          count        mean       std    min    25%    50%    75%    max\n",
      "target                                                                  \n",
      "0       80850.0  145.897737  16.54807  125.0  138.0  142.0  151.0  211.0\n",
      "1       14460.0  155.611757  22.37121  127.0  135.0  155.0  160.0  209.0\n",
      "\n",
      "Summary Statistics for 'processcount_total':\n",
      "          count        mean       std    min    25%    50%    75%    max\n",
      "target                                                                  \n",
      "0       80850.0  100.003067  6.795693    1.0   96.0   98.0  106.0  124.0\n",
      "1       14460.0  111.156570  4.305390  102.0  107.0  111.0  116.0  119.0\n",
      "\n"
     ]
    }
   ],
   "source": [
    "summary_stats(processcount)"
   ]
  },
  {
   "cell_type": "code",
   "execution_count": 108,
   "id": "72db6639-e3f7-418f-ac4b-c9100859845d",
   "metadata": {},
   "outputs": [
    {
     "name": "stdout",
     "output_type": "stream",
     "text": [
      "Summary Statistics for 'fs_/_free':\n",
      "          count          mean           std           min           25%  \\\n",
      "target                                                                    \n",
      "0       80850.0  7.344400e+09  9.477128e+08  5.658153e+09  7.415161e+09   \n",
      "1       14460.0  1.508452e+09  1.341839e+09  1.453998e+08  1.537065e+08   \n",
      "\n",
      "                 50%           75%           max  \n",
      "target                                            \n",
      "0       7.970025e+09  7.983841e+09  8.194929e+09  \n",
      "1       2.659443e+09  2.662719e+09  3.085165e+09  \n",
      "\n",
      "Summary Statistics for 'fs_/_percent':\n",
      "          count      mean        std   min   25%   50%   75%   max\n",
      "target                                                            \n",
      "0       80850.0  31.53262   8.829984  23.6  25.6  25.7  30.9  47.2\n",
      "1       14460.0  67.96399  28.503189  34.5  43.4  43.5  96.7  96.9\n",
      "\n",
      "Summary Statistics for 'fs_/_size':\n",
      "          count          mean  std           min           25%           50%  \\\n",
      "target                                                                         \n",
      "0       80850.0  1.072588e+10  0.0  1.072588e+10  1.072588e+10  1.072588e+10   \n",
      "1       14460.0  4.708106e+09  0.0  4.708106e+09  4.708106e+09  4.708106e+09   \n",
      "\n",
      "                 75%           max  \n",
      "target                              \n",
      "0       1.072588e+10  1.072588e+10  \n",
      "1       4.708106e+09  4.708106e+09  \n",
      "\n",
      "Summary Statistics for 'fs_/_used':\n",
      "          count          mean           std           min           25%  \\\n",
      "target                                                                    \n",
      "0       80850.0  3.381484e+09  9.477128e+08  2.530955e+09  2.742043e+09   \n",
      "1       14460.0  3.199655e+09  1.341839e+09  1.622942e+09  2.045387e+09   \n",
      "\n",
      "                 50%           75%           max  \n",
      "target                                            \n",
      "0       2.755858e+09  3.310723e+09  5.067731e+09  \n",
      "1       2.048664e+09  4.554400e+09  4.562706e+09  \n",
      "\n"
     ]
    }
   ],
   "source": [
    "summary_stats(fs)"
   ]
  },
  {
   "cell_type": "code",
   "execution_count": 110,
   "id": "f5dea5c0-616a-46fe-b00c-ab20ba5e84d0",
   "metadata": {},
   "outputs": [],
   "source": [
    "columes_to_drop = ['cpu_nice', 'cpu_softirq', 'diskio_sda1_time_since_update', 'diskio_sda_time_since_update',\n",
    "                  'mem_shared', 'mem_total','network_lo_cx','network_lo_rx', 'network_lo_time_since_update', 'network_lo_tx']\n",
    "combined_df_copy = combined_df.copy()\n",
    "combined_df_copy.drop(columes_to_drop, axis=1, inplace=True)"
   ]
  },
  {
   "cell_type": "code",
   "execution_count": null,
   "id": "e2df73d7-de6e-4981-81e4-ffa60a8c89c3",
   "metadata": {},
   "outputs": [
    {
     "data": {
      "text/plain": [
       "Index(['cpu_idle', 'cpu_iowait', 'cpu_nice', 'cpu_softirq', 'cpu_system',\n",
       "       'cpu_total', 'cpu_user', 'diskio_sda1_read_bytes',\n",
       "       'diskio_sda1_time_since_update', 'diskio_sda1_write_bytes',\n",
       "       'diskio_sda_read_bytes', 'diskio_sda_time_since_update',\n",
       "       'diskio_sda_write_bytes', 'fs_/_free', 'fs_/_percent', 'fs_/_size',\n",
       "       'fs_/_used', 'load_min1', 'load_min15', 'load_min5', 'mem_active',\n",
       "       'mem_available', 'mem_buffers', 'mem_cached', 'mem_free',\n",
       "       'mem_inactive', 'mem_percent', 'mem_shared', 'mem_total', 'mem_used',\n",
       "       'memswap_free', 'memswap_sin', 'network_lo_cumulative_cx',\n",
       "       'network_lo_cumulative_rx', 'network_lo_cumulative_tx', 'network_lo_cx',\n",
       "       'network_lo_rx', 'network_lo_time_since_update', 'network_lo_tx',\n",
       "       'percpu_0_idle', 'percpu_0_iowait', 'percpu_0_nice', 'percpu_0_softirq',\n",
       "       'percpu_0_system', 'percpu_0_total', 'percpu_0_user',\n",
       "       'processcount_running', 'processcount_sleeping', 'processcount_thread',\n",
       "       'processcount_total', 'target'],\n",
       "      dtype='object')"
      ]
     },
     "execution_count": 214,
     "metadata": {},
     "output_type": "execute_result"
    }
   ],
   "source": []
  },
  {
   "cell_type": "markdown",
   "id": "b9036a46-f111-4e48-85b5-6df2b0b2e6ba",
   "metadata": {
    "tags": []
   },
   "source": [
    "##### Data Splitting"
   ]
  },
  {
   "cell_type": "code",
   "execution_count": 192,
   "id": "338d5d4a-2c2a-41e1-a911-59c4ae8f00f9",
   "metadata": {},
   "outputs": [],
   "source": [
    "y = combined_df_copy['target']\n",
    "y = y.astype(int)\n",
    "X = combined_df_copy.drop(columns=['target'])\n",
    "X_train, X_test, y_train, y_test = train_test_split(X,y, test_size=0.3, random_state=42)"
   ]
  },
  {
   "cell_type": "code",
   "execution_count": 193,
   "id": "2ee84a4b-f5b5-494c-a1e5-cd3b7ab303b3",
   "metadata": {},
   "outputs": [
    {
     "name": "stderr",
     "output_type": "stream",
     "text": [
      "C:\\Users\\New user\\anaconda3\\lib\\site-packages\\seaborn\\_decorators.py:36: FutureWarning: Pass the following variable as a keyword arg: x. From version 0.12, the only valid positional argument will be `data`, and passing other arguments without an explicit keyword will result in an error or misinterpretation.\n",
      "  warnings.warn(\n"
     ]
    },
    {
     "data": {
      "text/plain": [
       "<AxesSubplot:xlabel='target', ylabel='count'>"
      ]
     },
     "execution_count": 193,
     "metadata": {},
     "output_type": "execute_result"
    },
    {
     "data": {
      "image/png": "[encoded data removed]",
      "text/plain": [
       "<Figure size 432x288 with 1 Axes>"
      ]
     },
     "metadata": {
      "needs_background": "light"
     },
     "output_type": "display_data"
    }
   ],
   "source": [
    "sns.countplot(y_train)"
   ]
  },
  {
   "cell_type": "markdown",
   "id": "7cc85ba9-cceb-4f7c-9189-754c03063c38",
   "metadata": {},
   "source": [
    "##### Oversampling"
   ]
  },
  {
   "cell_type": "code",
   "execution_count": 194,
   "id": "41b6b255-50c9-48a8-8a89-0beeb46e684b",
   "metadata": {},
   "outputs": [],
   "source": [
    "from imblearn.over_sampling import RandomOverSampler\n",
    "oversampler = RandomOverSampler(sampling_strategy=0.5)\n",
    "X_reshaped = X_train.values.reshape(-1, 1)  # Reshape feature data if required\n",
    "\n",
    "X__train_resampled, y_train_resampled = oversampler.fit_resample(X_train, y_train)\n"
   ]
  },
  {
   "cell_type": "code",
   "execution_count": 195,
   "id": "76cc42de-23f1-45bf-89ac-e0e93bce178a",
   "metadata": {},
   "outputs": [
    {
     "name": "stderr",
     "output_type": "stream",
     "text": [
      "C:\\Users\\New user\\anaconda3\\lib\\site-packages\\seaborn\\_decorators.py:36: FutureWarning: Pass the following variable as a keyword arg: x. From version 0.12, the only valid positional argument will be `data`, and passing other arguments without an explicit keyword will result in an error or misinterpretation.\n",
      "  warnings.warn(\n"
     ]
    },
    {
     "data": {
      "text/plain": [
       "<AxesSubplot:xlabel='target', ylabel='count'>"
      ]
     },
     "execution_count": 195,
     "metadata": {},
     "output_type": "execute_result"
    },
    {
     "data": {
      "image/png": "[encoded data removed]",
      "text/plain": [
       "<Figure size 432x288 with 1 Axes>"
      ]
     },
     "metadata": {
      "needs_background": "light"
     },
     "output_type": "display_data"
    }
   ],
   "source": [
    "sns.countplot(y_train_resampled)"
   ]
  },
  {
   "cell_type": "markdown",
   "id": "67e4d11c-4f21-4432-b02b-6d68ee047b1b",
   "metadata": {
    "jupyter": {
     "outputs_hidden": true
    },
    "tags": []
   },
   "source": [
    "## Feature Selection"
   ]
  },
  {
   "cell_type": "markdown",
   "id": "0a766a5a-0808-472d-86e9-90aaf2650b37",
   "metadata": {},
   "source": [
    "### RandomForest feature importances"
   ]
  },
  {
   "cell_type": "code",
   "execution_count": 196,
   "id": "f708dcb0-f446-44ee-a9dd-dfceb0bccf39",
   "metadata": {},
   "outputs": [
    {
     "data": {
      "text/plain": [
       "RandomForestClassifier(max_depth=3)"
      ]
     },
     "execution_count": 196,
     "metadata": {},
     "output_type": "execute_result"
    }
   ],
   "source": [
    "rnd_clf = RandomForestClassifier(max_depth=3)\n",
    "rnd_clf.fit(X__train_resampled, y_train_resampled)"
   ]
  },
  {
   "cell_type": "code",
   "execution_count": 197,
   "id": "8b311fe8-8711-4db5-9c56-12e247c1426e",
   "metadata": {},
   "outputs": [
    {
     "name": "stdout",
     "output_type": "stream",
     "text": [
      "cpu_idle 0.0\n",
      "cpu_iowait 0.0\n",
      "cpu_system 0.016963132161391\n",
      "cpu_total 0.0008019921577732992\n",
      "cpu_user 1.3088426260953935e-05\n",
      "diskio_sda1_read_bytes 0.0\n",
      "diskio_sda1_write_bytes 0.0\n",
      "diskio_sda_read_bytes 0.0\n",
      "diskio_sda_write_bytes 0.0\n",
      "fs_/_free 0.17904568017941672\n",
      "fs_/_percent 0.004114432662025651\n",
      "fs_/_size 0.14133610690602105\n",
      "fs_/_used 0.007105808462164416\n",
      "load_min1 0.007778772460698018\n",
      "load_min15 4.982251602683485e-05\n",
      "load_min5 0.009424246902826382\n",
      "mem_active 0.06322248797862219\n",
      "mem_available 0.11056330123518485\n",
      "mem_buffers 0.0003572131666876771\n",
      "mem_cached 0.1163615182694024\n",
      "mem_free 0.06275668163898267\n",
      "mem_inactive 0.00013576664756674206\n",
      "mem_percent 0.07727044247083896\n",
      "mem_used 0.018295546600420893\n",
      "memswap_free 0.15086111579238107\n",
      "memswap_sin 0.0\n",
      "network_lo_cumulative_cx 0.0008316503029342088\n",
      "network_lo_cumulative_rx 5.812770306687163e-05\n",
      "network_lo_cumulative_tx 0.0\n",
      "percpu_0_idle 0.0037926598920223205\n",
      "percpu_0_iowait 0.0\n",
      "percpu_0_nice 0.0\n",
      "percpu_0_softirq 2.639200122908365e-06\n",
      "percpu_0_system 0.01578484633032738\n",
      "percpu_0_total 0.0037995776604719277\n",
      "percpu_0_user 0.0\n",
      "processcount_running 0.0\n",
      "processcount_sleeping 4.112675428959989e-05\n",
      "processcount_thread 0.0\n",
      "processcount_total 0.009232215522073064\n"
     ]
    }
   ],
   "source": [
    "for name, score in zip(combined_df_copy.columns, rnd_clf.feature_importances_):\n",
    "    print(name,score)"
   ]
  },
  {
   "cell_type": "markdown",
   "id": "93250439-f578-44e9-905a-fadae8fb5ef6",
   "metadata": {},
   "source": [
    "#### Features that are important are:"
   ]
  },
  {
   "cell_type": "markdown",
   "id": "ff28bcac-7c83-432b-b9f1-340fc15c0d3d",
   "metadata": {},
   "source": [
    "1. CPU_System\n",
    "2. fs_/_ free\n",
    "3. fs_/_ size\n",
    "4. mem_active\n",
    "5. mem_available\n",
    "6. mem_cached\n",
    "7. mem_free\n",
    "8. mem_used\n",
    "9. mem_percent\n",
    "10. memswap_free\n",
    "11. processcount_sleeping\n",
    "12. processcount_total"
   ]
  },
  {
   "cell_type": "markdown",
   "id": "7df0c1f7-ae4c-4ae0-9119-9f28eaf67e13",
   "metadata": {},
   "source": [
    "#### RFECV Wrapper"
   ]
  },
  {
   "cell_type": "code",
   "execution_count": 198,
   "id": "b622f356-cd0a-41dd-a0dd-0036fa3c11b7",
   "metadata": {},
   "outputs": [],
   "source": [
    "scaler = StandardScaler()\n",
    "X_train_z_score = scaler.fit_transform(X_train)\n",
    "X_test_z_score = scaler.transform(X_test)\n",
    "X_train_z_scaler = pd.DataFrame(X_train_z_score,columns= X_train.columns)\n",
    "X_test_z_scaler = pd.DataFrame(X_test_z_score,columns= X_train.columns)"
   ]
  },
  {
   "cell_type": "code",
   "execution_count": 199,
   "id": "80201e3d-3bf4-495f-9c31-8be42d5e1784",
   "metadata": {},
   "outputs": [],
   "source": [
    "from sklearn.feature_selection import RFECV\n",
    "from sklearn.model_selection import StratifiedKFold\n",
    "kfold= StratifiedKFold(n_splits=3, random_state=42,shuffle=True)\n",
    "def wrapper_select_features(X_train, y_train, X_test, estimator, step, min_features_to_select):\n",
    "    # configure to select all features\n",
    "    rfe = RFECV(estimator=estimator, step=step, cv=kfold,min_features_to_select=min_features_to_select, scoring='f1', verbose=2, n_jobs=1)\n",
    "    rfe.fit(X_train, y_train)\n",
    "    # transform train input data\n",
    "    X_train_rfe = rfe.transform(X_train)\n",
    "    # transform test input data\n",
    "    X_test_rfe= rfe.transform(X_test)\n",
    "    return X_train_rfe, X_test_rfe, rfe"
   ]
  },
  {
   "cell_type": "code",
   "execution_count": 200,
   "id": "268eba38-eab3-4f01-a36e-2728b3740d5a",
   "metadata": {
    "tags": []
   },
   "outputs": [],
   "source": [
    "%%capture\n",
    "estimator_lr = LogisticRegression()\n",
    "min_features_to_select = 6\n",
    "step_rfe = 1\n",
    "X_train_fs_z_scaler, X_test_fs_z_scaler, rfe = wrapper_select_features(X_train_z_scaler, y_train,\n",
    "                                                                       X_test_z_scaler, estimator_lr, step=step_rfe,\n",
    "                                                     min_features_to_select=min_features_to_select)"
   ]
  },
  {
   "cell_type": "code",
   "execution_count": 201,
   "id": "3771cee2-dd41-4b28-9c62-ca1f82e6403c",
   "metadata": {},
   "outputs": [
    {
     "name": "stdout",
     "output_type": "stream",
     "text": [
      "Optimal number of features: 6\n"
     ]
    },
    {
     "data": {
      "text/html": [
       "<div>\n",
       "<style scoped>\n",
       "    .dataframe tbody tr th:only-of-type {\n",
       "        vertical-align: middle;\n",
       "    }\n",
       "\n",
       "    .dataframe tbody tr th {\n",
       "        vertical-align: top;\n",
       "    }\n",
       "\n",
       "    .dataframe thead th {\n",
       "        text-align: right;\n",
       "    }\n",
       "</style>\n",
       "<table border=\"1\" class=\"dataframe\">\n",
       "  <thead>\n",
       "    <tr style=\"text-align: right;\">\n",
       "      <th></th>\n",
       "      <th>Best features</th>\n",
       "    </tr>\n",
       "  </thead>\n",
       "  <tbody>\n",
       "    <tr>\n",
       "      <th>0</th>\n",
       "      <td>fs_/_free</td>\n",
       "    </tr>\n",
       "    <tr>\n",
       "      <th>1</th>\n",
       "      <td>fs_/_size</td>\n",
       "    </tr>\n",
       "    <tr>\n",
       "      <th>2</th>\n",
       "      <td>mem_cached</td>\n",
       "    </tr>\n",
       "    <tr>\n",
       "      <th>3</th>\n",
       "      <td>mem_free</td>\n",
       "    </tr>\n",
       "    <tr>\n",
       "      <th>4</th>\n",
       "      <td>memswap_free</td>\n",
       "    </tr>\n",
       "    <tr>\n",
       "      <th>5</th>\n",
       "      <td>processcount_sleeping</td>\n",
       "    </tr>\n",
       "  </tbody>\n",
       "</table>\n",
       "</div>"
      ],
      "text/plain": [
       "           Best features\n",
       "0              fs_/_free\n",
       "1              fs_/_size\n",
       "2             mem_cached\n",
       "3               mem_free\n",
       "4           memswap_free\n",
       "5  processcount_sleeping"
      ]
     },
     "execution_count": 201,
     "metadata": {},
     "output_type": "execute_result"
    }
   ],
   "source": [
    "print('Optimal number of features:', rfe.n_features_)\n",
    "pd.DataFrame(X_train.columns[rfe.ranking_ == 1], columns=['Best features'])"
   ]
  },
  {
   "cell_type": "code",
   "execution_count": 202,
   "id": "6c660197-b235-4334-a927-2362157e070a",
   "metadata": {},
   "outputs": [],
   "source": [
    "selected_columns = ['fs_/_free','fs_/_size', 'mem_cached','mem_free','memswap_free', 'processcount_sleeping']\n",
    "sdata = combined_df_copy[selected_columns]"
   ]
  },
  {
   "cell_type": "code",
   "execution_count": null,
   "id": "c93f15bf-07b3-46b1-9cfe-8e29995e6e61",
   "metadata": {},
   "outputs": [],
   "source": []
  },
  {
   "cell_type": "code",
   "execution_count": null,
   "id": "a100c75c-b23b-4168-b127-2b0569842ac5",
   "metadata": {},
   "outputs": [],
   "source": [
    "X[]"
   ]
  },
  {
   "cell_type": "code",
   "execution_count": 176,
   "id": "a898820c-aa1b-4e08-8fff-9536972a04b1",
   "metadata": {},
   "outputs": [],
   "source": [
    "scaler = StandardScaler()\n",
    "sdata_norm = scaler.fit_transform(sdata)\n",
    "sdata_norm_df = pd.DataFrame(sdata_norm,columns= sdata.columns)"
   ]
  },
  {
   "cell_type": "markdown",
   "id": "4aa1ec79-c0e3-4a8a-b0e8-c6670edb35fc",
   "metadata": {},
   "source": [
    "#### Correlation matrix"
   ]
  },
  {
   "cell_type": "code",
   "execution_count": 177,
   "id": "72326c84-800d-44bb-8334-874a1454cded",
   "metadata": {},
   "outputs": [
    {
     "data": {
      "text/plain": [
       "<AxesSubplot:>"
      ]
     },
     "execution_count": 177,
     "metadata": {},
     "output_type": "execute_result"
    },
    {
     "data": {
      "image/png": "[encoded data removed]",
      "text/plain": [
       "<Figure size 720x360 with 2 Axes>"
      ]
     },
     "metadata": {
      "needs_background": "light"
     },
     "output_type": "display_data"
    }
   ],
   "source": [
    "corr = sdata_norm_df.corr()\n",
    "figure = plt.figure(figsize=(10, 5))\n",
    "plt.tight_layout()\n",
    "plt.xlabel('Corr')\n",
    "sns.heatmap(corr, cmap=\"Blues\", annot=True)"
   ]
  },
  {
   "cell_type": "markdown",
   "id": "b6569e08-cd6e-44b6-974b-e1247d961187",
   "metadata": {},
   "source": [
    "## XGBOOST MODEL"
   ]
  },
  {
   "cell_type": "code",
   "execution_count": 203,
   "id": "1525dfe8-f0b3-4f93-8dae-713570ccaa29",
   "metadata": {},
   "outputs": [],
   "source": [
    "def plot_confusion_matrix(cm, class_names):\n",
    "    \"\"\"\n",
    "    Returns a matplotlib figure containing the plotted confusion matrix.\n",
    "\n",
    "    Args:\n",
    "      cm (array, shape = [n, n]): a confusion matrix of integer classes\n",
    "      class_names (array, shape = [n]): String names of the integer classes\n",
    "    \"\"\"\n",
    "    figure = plt.figure(figsize=(8, 8))\n",
    "    plt.imshow(cm, interpolation='nearest', cmap=plt.cm.Blues)\n",
    "    plt.title(\"Confusion matrix\")\n",
    "    plt.colorbar()\n",
    "    tick_marks = np.arange(len(class_names))\n",
    "    plt.xticks(tick_marks, class_names, rotation=45)\n",
    "    plt.yticks(tick_marks, class_names)\n",
    "\n",
    "    # Compute the labels from the normalized confusion matrix.\n",
    "    labels = np.around(cm.astype('float') / cm.sum(axis=1)[:, np.newaxis], decimals=2)\n",
    "\n",
    "    # Use white text if squares are dark; otherwise black.\n",
    "    threshold = cm.max() / 2.\n",
    "    for i, j in itertools.product(range(cm.shape[0]), range(cm.shape[1])):\n",
    "        color = \"white\" if cm[i, j] > threshold else \"black\"\n",
    "        plt.text(j, i, labels[i, j], horizontalalignment=\"center\", color=color)\n",
    "\n",
    "    plt.tight_layout()\n",
    "    plt.ylabel('True label')\n",
    "    plt.xlabel('Predicted label')\n",
    "    return figure"
   ]
  },
  {
   "cell_type": "code",
   "execution_count": 204,
   "id": "950546e2-da0d-4287-94ca-2bcdc47035be",
   "metadata": {},
   "outputs": [],
   "source": [
    "X_train_s = X_train_z_scaler[selected_columns]\n",
    "X_test_s = X_test_z_scaler[selected_columns]"
   ]
  },
  {
   "cell_type": "code",
   "execution_count": 205,
   "id": "30e0e7a4-8632-4111-a745-3a197468151b",
   "metadata": {},
   "outputs": [],
   "source": [
    "%%capture\n",
    "estimator_xgb = XGBClassifier(verbosity=2,   max_bin=255, predictor='cpu_predictor' )\n",
    "estimator_xgb.fit(X_train_s, y_train)"
   ]
  },
  {
   "cell_type": "code",
   "execution_count": 206,
   "id": "804bf382-11e2-47f9-96ac-2c10bce219f9",
   "metadata": {},
   "outputs": [
    {
     "name": "stdout",
     "output_type": "stream",
     "text": [
      "Accuracy  classifier on test set: 1.0000\n",
      "              precision    recall  f1-score   support\n",
      "\n",
      "      benign     1.0000    1.0000    1.0000     24258\n",
      "      malign     1.0000    1.0000    1.0000      4335\n",
      "\n",
      "    accuracy                         1.0000     28593\n",
      "   macro avg     1.0000    1.0000    1.0000     28593\n",
      "weighted avg     1.0000    1.0000    1.0000     28593\n",
      "\n",
      "[[24258     0]\n",
      " [    0  4335]]\n"
     ]
    },
    {
     "data": {
      "image/png": "[encoded data removed]",
      "text/plain": [
       "<Figure size 576x576 with 2 Axes>"
      ]
     },
     "metadata": {
      "needs_background": "light"
     },
     "output_type": "display_data"
    }
   ],
   "source": [
    "print('Accuracy  classifier on test set: {:.4f}'.format(estimator_xgb.score(X_test_s, y_test)))\n",
    "\n",
    "y_pred = estimator_xgb.predict(X_test_s)\n",
    "\n",
    "print(classification_report(y_test, y_pred,target_names=['benign', 'malign'], digits=4)) \n",
    "cm = confusion_matrix(y_test, y_pred)\n",
    "print(cm)\n",
    "target_list = ['benign', 'malign']\n",
    "figure = plot_confusion_matrix(cm, target_list)"
   ]
  },
  {
   "cell_type": "code",
   "execution_count": null,
   "id": "cdd03196-2284-4e8a-837f-3f63a35ecb15",
   "metadata": {},
   "outputs": [],
   "source": []
  }
 ],
 "metadata": {
  "kernelspec": {
   "display_name": "Python 3 (ipykernel)",
   "language": "python",
   "name": "python3"
  },
  "language_info": {
   "codemirror_mode": {
    "name": "ipython",
    "version": 3
   },
   "file_extension": ".py",
   "mimetype": "text/x-python",
   "name": "python",
   "nbconvert_exporter": "python",
   "pygments_lexer": "ipython3",
   "version": "3.9.12"
  }
 },
 "nbformat": 4,
 "nbformat_minor": 5
}
